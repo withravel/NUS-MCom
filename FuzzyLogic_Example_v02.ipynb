{
  "nbformat": 4,
  "nbformat_minor": 0,
  "metadata": {
    "colab": {
      "name": "FuzzyLogic_Example_v02.ipynb",
      "provenance": [],
      "include_colab_link": true
    },
    "kernelspec": {
      "name": "python3",
      "display_name": "Python 3"
    }
  },
  "cells": [
    {
      "cell_type": "markdown",
      "metadata": {
        "id": "view-in-github",
        "colab_type": "text"
      },
      "source": [
        "<a href=\"https://colab.research.google.com/github/withravel/NUS-MCom/blob/IS5006/FuzzyLogic_Example_v02.ipynb\" target=\"_parent\"><img src=\"https://colab.research.google.com/assets/colab-badge.svg\" alt=\"Open In Colab\"/></a>"
      ]
    },
    {
      "cell_type": "markdown",
      "metadata": {
        "id": "spsaebQhZFtQ"
      },
      "source": [
        "In this activity we will see a python code that, using third-party library, calculates the grade of a list of cryptocurrencies by implementing fuzzy logic.\n",
        "\n",
        "Each crypto has the yearly return and risk value (assumed in percentage), and with fuzzy logic, each of them will be mapped into a grade of ranged from 0 to 100. \n"
      ]
    },
    {
      "cell_type": "code",
      "metadata": {
        "id": "sTgZmnE9RFPb",
        "colab": {
          "base_uri": "https://localhost:8080/"
        },
        "outputId": "752ea51f-80df-4c6d-eb27-0dfd707b563b"
      },
      "source": [
        "!pip install scikit-fuzzy"
      ],
      "execution_count": null,
      "outputs": [
        {
          "output_type": "stream",
          "text": [
            "Collecting scikit-fuzzy\n",
            "\u001b[?25l  Downloading https://files.pythonhosted.org/packages/6c/f0/5eb5dbe0fd8dfe7d4651a8f4e591a196623a22b9e5339101e559695b4f6c/scikit-fuzzy-0.4.2.tar.gz (993kB)\n",
            "\u001b[K     |████████████████████████████████| 1.0MB 12.0MB/s \n",
            "\u001b[?25hRequirement already satisfied: numpy>=1.6.0 in /usr/local/lib/python3.6/dist-packages (from scikit-fuzzy) (1.19.5)\n",
            "Requirement already satisfied: scipy>=0.9.0 in /usr/local/lib/python3.6/dist-packages (from scikit-fuzzy) (1.4.1)\n",
            "Requirement already satisfied: networkx>=1.9.0 in /usr/local/lib/python3.6/dist-packages (from scikit-fuzzy) (2.5)\n",
            "Requirement already satisfied: decorator>=4.3.0 in /usr/local/lib/python3.6/dist-packages (from networkx>=1.9.0->scikit-fuzzy) (4.4.2)\n",
            "Building wheels for collected packages: scikit-fuzzy\n",
            "  Building wheel for scikit-fuzzy (setup.py) ... \u001b[?25l\u001b[?25hdone\n",
            "  Created wheel for scikit-fuzzy: filename=scikit_fuzzy-0.4.2-cp36-none-any.whl size=894070 sha256=dbde86c91208f442b6a5d44f85088be53d48ba6a2dcf7b7873f5325bb804e0d1\n",
            "  Stored in directory: /root/.cache/pip/wheels/b9/4e/77/da79b16f64ef1738d95486e2731eea09d73e90a72465096600\n",
            "Successfully built scikit-fuzzy\n",
            "Installing collected packages: scikit-fuzzy\n",
            "Successfully installed scikit-fuzzy-0.4.2\n"
          ],
          "name": "stdout"
        }
      ]
    },
    {
      "cell_type": "code",
      "metadata": {
        "id": "FIGAZmgeQy9_"
      },
      "source": [
        "import skfuzzy as fuzz\r\n",
        "import numpy as np\r\n",
        "from skfuzzy import control as ctrl"
      ],
      "execution_count": null,
      "outputs": []
    },
    {
      "cell_type": "markdown",
      "metadata": {
        "id": "uQE3sYb0bY7V"
      },
      "source": [
        "The data set with the format of crypto name, yearly return in percentage and risk in percentage"
      ]
    },
    {
      "cell_type": "code",
      "metadata": {
        "id": "HAyjgc-wQ22w"
      },
      "source": [
        "cryptos = [\r\n",
        "    ('a', 5, 1), ('b', 6, 2), ('c', 8, 1),\r\n",
        "    ('d', 8, 3), ('e', 9, 2), ('f', 10, 2),\r\n",
        "    ('g', 11, 10), ('h', 12, 8), ('i', 13, 2),\r\n",
        "    ('j', 14, 12), ('k', 15, 10)\r\n",
        "]"
      ],
      "execution_count": null,
      "outputs": []
    },
    {
      "cell_type": "markdown",
      "metadata": {
        "id": "x5u8-U_Dbs9o"
      },
      "source": [
        "for example: printing out the data set to console "
      ]
    },
    {
      "cell_type": "code",
      "metadata": {
        "colab": {
          "base_uri": "https://localhost:8080/"
        },
        "id": "H5_K66oQRWDY",
        "outputId": "8b6c497f-5009-4ee1-d5df-f5e47211ed4f"
      },
      "source": [
        "cryptos"
      ],
      "execution_count": null,
      "outputs": [
        {
          "output_type": "execute_result",
          "data": {
            "text/plain": [
              "[('a', 5, 1),\n",
              " ('b', 6, 2),\n",
              " ('c', 8, 1),\n",
              " ('d', 8, 3),\n",
              " ('e', 9, 2),\n",
              " ('f', 10, 2),\n",
              " ('g', 11, 10),\n",
              " ('h', 12, 8),\n",
              " ('i', 13, 2),\n",
              " ('j', 14, 12),\n",
              " ('k', 15, 10)]"
            ]
          },
          "metadata": {
            "tags": []
          },
          "execution_count": 14
        }
      ]
    },
    {
      "cell_type": "markdown",
      "metadata": {
        "id": "k5MAyvENbroM"
      },
      "source": [
        "Example of the rule\n"
      ]
    },
    {
      "cell_type": "code",
      "metadata": {
        "id": "fCqFBP5SY5UN"
      },
      "source": [
        "x=1"
      ],
      "execution_count": null,
      "outputs": []
    },
    {
      "cell_type": "code",
      "metadata": {
        "id": "r4ZVoq_XY5_h"
      },
      "source": [
        "if cryptos[x][1] > cryptos[x-1][1] :\r\n",
        "  print(\"Crypto \" + cryptos[x][0]+ \" is a better choice\")"
      ],
      "execution_count": null,
      "outputs": []
    },
    {
      "cell_type": "markdown",
      "metadata": {
        "id": "9yT1P1XHcYH-"
      },
      "source": [
        "Finding how many elements inside cryptos"
      ]
    },
    {
      "cell_type": "code",
      "metadata": {
        "id": "TvHkRMGJRPRn"
      },
      "source": [
        " length = len(cryptos)\r\n",
        "    "
      ],
      "execution_count": null,
      "outputs": []
    },
    {
      "cell_type": "markdown",
      "metadata": {
        "id": "eQk1jkWzcW4c"
      },
      "source": [
        "Declare the result variable - currently empty\n"
      ]
    },
    {
      "cell_type": "code",
      "metadata": {
        "id": "j5b1fsFiRfgH"
      },
      "source": [
        "myResult = ''\r\n"
      ],
      "execution_count": null,
      "outputs": []
    },
    {
      "cell_type": "markdown",
      "metadata": {
        "id": "e6YfLqUJcmL3"
      },
      "source": [
        "Looking through the first element in data set ('a', 5, 1)"
      ]
    },
    {
      "cell_type": "code",
      "metadata": {
        "id": "ATNfV6HJStzE"
      },
      "source": [
        "crypto = cryptos[0]"
      ],
      "execution_count": null,
      "outputs": []
    },
    {
      "cell_type": "markdown",
      "metadata": {
        "id": "VGzmuPiWdj5z"
      },
      "source": [
        "Printing the first element for checking, this is example of fact"
      ]
    },
    {
      "cell_type": "code",
      "metadata": {
        "colab": {
          "base_uri": "https://localhost:8080/"
        },
        "id": "BNnLpaVyS6ot",
        "outputId": "614df4f5-8dd3-4f0b-fa35-014cf8ea9eb2"
      },
      "source": [
        "crypto"
      ],
      "execution_count": null,
      "outputs": [
        {
          "output_type": "execute_result",
          "data": {
            "text/plain": [
              "('a', 5, 1)"
            ]
          },
          "metadata": {
            "tags": []
          },
          "execution_count": 18
        }
      ]
    },
    {
      "cell_type": "markdown",
      "metadata": {
        "id": "5YbB48kCdjBB"
      },
      "source": [
        "Getting the curYearlyReturn and curRisk from the crypto as the antecendents "
      ]
    },
    {
      "cell_type": "code",
      "metadata": {
        "id": "M7LbOr4ES8fW"
      },
      "source": [
        "curYearlyReturn = crypto[1]\r\n",
        "curRisk = crypto[2]"
      ],
      "execution_count": null,
      "outputs": []
    },
    {
      "cell_type": "markdown",
      "metadata": {
        "id": "kN56WEGMdv35"
      },
      "source": [
        "Setting the universe set of the input - this number is depending on the requirement/situation\n",
        "In this example, it means that the possible yearly return value is anything from 0 to 20 (percent)\n",
        "The possible risk value is anything from 0 to 15 (percent)\n",
        "The range is inclusive of the first param but up to the second param\n",
        "The third range param is for the 'step' between values ( in example, this is 0,1,2,....)"
      ]
    },
    {
      "cell_type": "code",
      "metadata": {
        "id": "HD8JIhvcS963"
      },
      "source": [
        "yearlyReturn = ctrl.Antecedent(np.arange(0, 21, 1), 'yearlyReturn')\r\n",
        "risk = ctrl.Antecedent(np.arange(0, 16, 1), 'risk')"
      ],
      "execution_count": null,
      "outputs": []
    },
    {
      "cell_type": "markdown",
      "metadata": {
        "id": "kuBoBTK_du8P"
      },
      "source": [
        "Check that yearlyReturn is an antecedent"
      ]
    },
    {
      "cell_type": "code",
      "metadata": {
        "colab": {
          "base_uri": "https://localhost:8080/"
        },
        "id": "oVfqds6yTBSQ",
        "outputId": "405a563b-b59d-4ee4-e10c-591c438e38a5"
      },
      "source": [
        "yearlyReturn"
      ],
      "execution_count": null,
      "outputs": [
        {
          "output_type": "execute_result",
          "data": {
            "text/plain": [
              "Antecedent: yearlyReturn"
            ]
          },
          "metadata": {
            "tags": []
          },
          "execution_count": 21
        }
      ]
    },
    {
      "cell_type": "markdown",
      "metadata": {
        "id": "CQg9fs5GeK6h"
      },
      "source": [
        "Check that the risk is an antecedent"
      ]
    },
    {
      "cell_type": "code",
      "metadata": {
        "colab": {
          "base_uri": "https://localhost:8080/"
        },
        "id": "NGPmzyJkTMaL",
        "outputId": "8ba04ffb-87d4-43d2-805a-46b5e4118a4c"
      },
      "source": [
        "risk"
      ],
      "execution_count": null,
      "outputs": [
        {
          "output_type": "execute_result",
          "data": {
            "text/plain": [
              "Antecedent: risk"
            ]
          },
          "metadata": {
            "tags": []
          },
          "execution_count": 22
        }
      ]
    },
    {
      "cell_type": "markdown",
      "metadata": {
        "id": "kqX8ofwWeOaI"
      },
      "source": [
        "Setting the universe set of the output - this number is depending on the requirement/situation\n",
        "In this example, the crypto is graded in anything between 0 to 100"
      ]
    },
    {
      "cell_type": "code",
      "metadata": {
        "id": "LUPZAdC3TQUV"
      },
      "source": [
        "grade = ctrl.Consequent(np.arange(0, 101, 1), 'grade')"
      ],
      "execution_count": null,
      "outputs": []
    },
    {
      "cell_type": "markdown",
      "metadata": {
        "id": "nVDKpFXkeWsa"
      },
      "source": [
        "Check that grade is a consequence"
      ]
    },
    {
      "cell_type": "code",
      "metadata": {
        "colab": {
          "base_uri": "https://localhost:8080/"
        },
        "id": "VKD0ZxcTTR-s",
        "outputId": "5cecc3e0-1eb6-401a-ece1-3252aacad476"
      },
      "source": [
        "grade"
      ],
      "execution_count": null,
      "outputs": [
        {
          "output_type": "execute_result",
          "data": {
            "text/plain": [
              "Consequent: grade"
            ]
          },
          "metadata": {
            "tags": []
          },
          "execution_count": 24
        }
      ]
    },
    {
      "cell_type": "markdown",
      "metadata": {
        "id": "UR2VOFrLefz4"
      },
      "source": [
        "Auto-membership function population is possible with .automf(3, 5, or 7)\n",
        "You can try with different value\n",
        "3, 5, or 7 means the universe set is divided by 3, 5, or 7 categories\n",
        "Below is setting the yearlyReturn membership distribution with automf"
      ]
    },
    {
      "cell_type": "code",
      "metadata": {
        "id": "Q8ECUQ2GTWTK"
      },
      "source": [
        "yearlyReturn.automf(3)"
      ],
      "execution_count": null,
      "outputs": []
    },
    {
      "cell_type": "markdown",
      "metadata": {
        "id": "vklDmOJlf4ko"
      },
      "source": [
        "View yearlyReturn diagram "
      ]
    },
    {
      "cell_type": "code",
      "metadata": {
        "colab": {
          "base_uri": "https://localhost:8080/",
          "height": 281
        },
        "id": "TUgcbQT-f0LX",
        "outputId": "2c221b13-b055-4ea5-f713-232cfe3d0087"
      },
      "source": [
        "yearlyReturn.view()"
      ],
      "execution_count": null,
      "outputs": [
        {
          "output_type": "display_data",
          "data": {
            "image/png": "[encoded data removed]",
            "text/plain": [
              "<Figure size 432x288 with 1 Axes>"
            ]
          },
          "metadata": {
            "tags": [],
            "needs_background": "light"
          }
        }
      ]
    },
    {
      "cell_type": "markdown",
      "metadata": {
        "id": "8KufgHPle0Go"
      },
      "source": [
        "Set the membership function of risk using custome membership function . \n",
        "Risk is customized because by default the smaller number is equal worse while with risk the smaller the risk is the better\n",
        "\n",
        "Custom membership functions can be built interactively with a familiar customize membership plotting\n",
        "The example below is equivalent with automf(3), but you can try play around with the value to change the shape\n",
        "The first parameter is the start point, the second is the peak point, and the third is the end point\n"
      ]
    },
    {
      "cell_type": "code",
      "metadata": {
        "id": "V5Npie9HTZxC"
      },
      "source": [
        "risk['good'] = fuzz.trimf(risk.universe, [0, 0, 7.5])\r\n",
        "risk['average'] = fuzz.trimf(risk.universe, [0, 7.5, 15])\r\n",
        "risk['poor'] = fuzz.trimf(risk.universe, [7.5, 15, 15])"
      ],
      "execution_count": null,
      "outputs": []
    },
    {
      "cell_type": "markdown",
      "metadata": {
        "id": "y25g4NfUfMPd"
      },
      "source": [
        "View the risk diagram \n",
        "  \n",
        "The .view function will make the diagram pop out for reference."
      ]
    },
    {
      "cell_type": "code",
      "metadata": {
        "colab": {
          "base_uri": "https://localhost:8080/",
          "height": 281
        },
        "id": "bIMByJY9Tf8f",
        "outputId": "fe6808c4-ddea-484b-c385-b7daa4bc7343"
      },
      "source": [
        "risk.view()"
      ],
      "execution_count": null,
      "outputs": [
        {
          "output_type": "display_data",
          "data": {
            "image/png": "[encoded data removed]",
            "text/plain": [
              "<Figure size 432x288 with 1 Axes>"
            ]
          },
          "metadata": {
            "tags": [],
            "needs_background": "light"
          }
        }
      ]
    },
    {
      "cell_type": "markdown",
      "metadata": {
        "id": "pJ5ILRSzfXY3"
      },
      "source": [
        "Set the membership function of grade using custom membership function"
      ]
    },
    {
      "cell_type": "code",
      "metadata": {
        "id": "sXSBKkyeThZB"
      },
      "source": [
        "grade['notProfitable'] = fuzz.trimf(grade.universe, [0, 0, 50])\r\n",
        "grade['enoughProfitable'] = fuzz.trimf(grade.universe, [0, 50, 100])\r\n",
        "grade['veryProfitable'] = fuzz.trimf(grade.universe, [50, 100, 100])"
      ],
      "execution_count": null,
      "outputs": []
    },
    {
      "cell_type": "markdown",
      "metadata": {
        "id": "QJ3znd77fvSF"
      },
      "source": [
        "View the grade diagram "
      ]
    },
    {
      "cell_type": "code",
      "metadata": {
        "colab": {
          "base_uri": "https://localhost:8080/",
          "height": 281
        },
        "id": "7pvvAjztTpwd",
        "outputId": "7c7c084e-2b6f-4552-b8e1-79828930f8c6"
      },
      "source": [
        "grade.view()"
      ],
      "execution_count": null,
      "outputs": [
        {
          "output_type": "display_data",
          "data": {
            "image/png": "[encoded data removed]",
            "text/plain": [
              "<Figure size 432x288 with 1 Axes>"
            ]
          },
          "metadata": {
            "tags": [],
            "needs_background": "light"
          }
        }
      ]
    },
    {
      "cell_type": "markdown",
      "metadata": {
        "id": "17Ri1eJ8f9je"
      },
      "source": [
        "Create the rule that will maps between the antecendents (yearlyReturn and risk) and consequence (grade)\n",
        "\n",
        "The first param in rule is the logic / requirements while the second param is the result"
      ]
    },
    {
      "cell_type": "code",
      "metadata": {
        "id": "rKpDmn19Tvi0"
      },
      "source": [
        "rule1 = ctrl.Rule(yearlyReturn['poor'] | risk['poor'], grade['notProfitable'])\r\n",
        "rule2 = ctrl.Rule(yearlyReturn['average'], grade['enoughProfitable'])\r\n",
        "rule3 = ctrl.Rule(yearlyReturn['good'] | risk['good'], grade['veryProfitable'])"
      ],
      "execution_count": null,
      "outputs": []
    },
    {
      "cell_type": "markdown",
      "metadata": {
        "id": "f2kykXJFgPjM"
      },
      "source": [
        "Assign the rules"
      ]
    },
    {
      "cell_type": "code",
      "metadata": {
        "id": "7lpDFcs8TyRT"
      },
      "source": [
        "investment_ctrl = ctrl.ControlSystem([rule1, rule2, rule3])\r\n",
        "investment = ctrl.ControlSystemSimulation(investment_ctrl)"
      ],
      "execution_count": null,
      "outputs": []
    },
    {
      "cell_type": "markdown",
      "metadata": {
        "id": "EGEHYBNtgTIe"
      },
      "source": [
        "Assign the value of crypto (cryptos[0] -> ('a', 5,1) into the input"
      ]
    },
    {
      "cell_type": "code",
      "metadata": {
        "id": "3lcKLJC-T3wD"
      },
      "source": [
        "investment.input['yearlyReturn'] = curYearlyReturn\r\n",
        "investment.input['risk'] = curRisk"
      ],
      "execution_count": null,
      "outputs": []
    },
    {
      "cell_type": "markdown",
      "metadata": {
        "id": "GPICKFAjgeQg"
      },
      "source": [
        "Crunch the numbers"
      ]
    },
    {
      "cell_type": "code",
      "metadata": {
        "id": "vfMCq3JFT6aO"
      },
      "source": [
        "investment.compute()"
      ],
      "execution_count": null,
      "outputs": []
    },
    {
      "cell_type": "markdown",
      "metadata": {
        "id": "5TXrnL2qgiyI"
      },
      "source": [
        "Generate the diagram for the result "
      ]
    },
    {
      "cell_type": "code",
      "metadata": {
        "colab": {
          "base_uri": "https://localhost:8080/",
          "height": 315
        },
        "id": "a-jwQSicT_Fp",
        "outputId": "ba1e114d-4781-4868-ec08-3bb0c7f66781"
      },
      "source": [
        "tempGrade = investment.output['grade']\r\n",
        "tempResult = \"Crypto for consideration \" + crypto[0] + ' with grade ' + str(tempGrade) + '\\n'\r\n",
        "print(tempResult)\r\n",
        "grade.view(sim=investment)"
      ],
      "execution_count": null,
      "outputs": [
        {
          "output_type": "stream",
          "text": [
            "Crypto for consideration a with grade 54.28599081909185\n",
            "\n"
          ],
          "name": "stdout"
        },
        {
          "output_type": "display_data",
          "data": {
            "image/png": "[encoded data removed]",
            "text/plain": [
              "<Figure size 432x288 with 1 Axes>"
            ]
          },
          "metadata": {
            "tags": [],
            "needs_background": "light"
          }
        }
      ]
    }
  ]
}